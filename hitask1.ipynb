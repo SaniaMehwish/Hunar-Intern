{
 "cells": [
  {
   "cell_type": "code",
   "execution_count": null,
   "id": "05067f01",
   "metadata": {},
   "outputs": [],
   "source": [
    "import pandas as pd\n",
    "import numpy as np\n",
    "\n",
    "# Load the dataset\n",
    "df = pd.read_csv('food_coded.csv')  # or the correct path if different\n",
    "\n",
    "# Step 1: Remove duplicate columns\n",
    "df = df.loc[:, ~df.columns.duplicated()]\n",
    "\n",
    "# Step 2: Remove duplicate rows\n",
    "df = df.drop_duplicates()\n",
    "\n",
    "# Step 3: Convert relevant object columns to numeric\n",
    "df['GPA'] = pd.to_numeric(df['GPA'], errors='coerce')\n",
    "df['weight'] = pd.to_numeric(df['weight'], errors='coerce')\n",
    "\n",
    "# Step 4: Identify numeric and non-numeric columns\n",
    "numeric_cols = df.select_dtypes(include=[np.number]).columns\n",
    "non_numeric_cols = df.select_dtypes(exclude=[np.number]).columns\n",
    "\n",
    "# Step 5: Create copies for different fill strategies\n",
    "df_mean = df.copy()\n",
    "df_median = df.copy()\n",
    "df_mode = df.copy()\n",
    "\n",
    "# Fill numeric columns\n",
    "df_mean[numeric_cols] = df_mean[numeric_cols].fillna(df_mean[numeric_cols].mean())\n",
    "df_median[numeric_cols] = df_median[numeric_cols].fillna(df_median[numeric_cols].median())\n",
    "for col in numeric_cols:\n",
    "    mode_val = df_mode[col].mode()\n",
    "    if not mode_val.empty:\n",
    "        df_mode[col] = df_mode[col].fillna(mode_val[0])\n",
    "\n",
    "# Fill non-numeric columns with mode\n",
    "for col in non_numeric_cols:\n",
    "    mode_val = df[col].mode()\n",
    "    if not mode_val.empty:\n",
    "        df_mean[col] = df_mean[col].fillna(mode_val[0])\n",
    "        df_median[col] = df_median[col].fillna(mode_val[0])\n",
    "        df_mode[col] = df_mode[col].fillna(mode_val[0])\n",
    "\n",
    "# Optional: Save to new CSV files\n",
    "df_mean.to_csv('food_cleaned_mean.csv', index=False)\n",
    "df_median.to_csv('food_cleaned_median.csv', index=False)\n",
    "df_mode.to_csv('food_cleaned_mode.csv', index=False)\n",
    "\n",
    "# Show the first 5 rows of each cleaned dataset\n",
    "print(\"Cleaned with Mean:\")\n",
    "display(df_mean.head())\n",
    "\n",
    "print(\"Cleaned with Median:\")\n",
    "display(df_median.head())\n",
    "\n",
    "print(\"Cleaned with Mode:\")\n",
    "display(df_mode.head())\n"
   ]
  },
  {
   "cell_type": "code",
   "execution_count": null,
   "id": "6e9be98b",
   "metadata": {},
   "outputs": [],
   "source": []
  }
 ],
 "metadata": {
  "kernelspec": {
   "display_name": "Python 3",
   "language": "python",
   "name": "python3"
  },
  "language_info": {
   "codemirror_mode": {
    "name": "ipython",
    "version": 3
   },
   "file_extension": ".py",
   "mimetype": "text/x-python",
   "name": "python",
   "nbconvert_exporter": "python",
   "pygments_lexer": "ipython3",
   "version": "3.11.9"
  }
 },
 "nbformat": 4,
 "nbformat_minor": 5
}
